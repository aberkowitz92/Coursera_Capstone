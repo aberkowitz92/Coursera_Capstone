{
    "nbformat_minor": 1, 
    "cells": [
        {
            "source": "# Capstone Project", 
            "cell_type": "markdown", 
            "metadata": {
                "collapsed": true
            }
        }, 
        {
            "source": "### Introduction/Business Problem", 
            "cell_type": "markdown", 
            "metadata": {}
        }, 
        {
            "source": "The project I will be completing is to use Foursquare data to find the top three neighborhoods in Philadelphia, PA that host concerts. This will help people who enjoy live music know what neighborhoods they will be frequenting the most. Alternatively, it may give a heads up to what neighborhoods to be cautious of, if you enjoy the quiet.", 
            "cell_type": "markdown", 
            "metadata": {}
        }, 
        {
            "source": "### Data", 
            "cell_type": "markdown", 
            "metadata": {}
        }, 
        {
            "source": "I will be using Foursquare location data to find the venues and what neighborhood they are in, and then sort descending to find the top three neighborhoods that have the most venues. I will then map out the neighborhoods and the venues that host the concerts.", 
            "cell_type": "markdown", 
            "metadata": {}
        }, 
        {
            "source": "### Methodology", 
            "cell_type": "markdown", 
            "metadata": {}
        }, 
        {
            "source": "I created a web scraper to get the data from a website (https://www.phillymag.com/news/2013/04/24/real-estate-2013-philadelphia-neighborhoods/) that contained Philadelphia zip codes and the neighborhood names. I put this data into a pandas dataframe and manipulated it until I had the zip code and name(s) of the corresponding neighborhood(s). I had installed \"uszipcode\" database to find the latitude and longitude coordinates of each zip code and neighborhood. I created a for loop to iterate through the pandas dataframe zip code and find the longitude and latitude, and merged both dataframes by zip code. I then created a map to show the neighborhoods in Philadelphia using the latitude and longitude coordinates.\n\nNow that I have the zip codes, neighborhood names, latitude, and longitude values, I was ready to use the FourSquare API to get the venues in the area. I created the request to retrieve all venue categories because I assumed there could be multiple categories to host concerts. After I ran the request for all the neighborhoods, it turns out I was right. I looked through the venue categories that were returned and determined that Concert Hall, Event Space, Music Venue, Performing Arts Venue, Other Nighlife, and Jazz Club could be the categories that would host concerts. Once I had those venue categories, I created a new dataframe that contained only those categories and their location data. From here I grouped them by neighborhood to show how many were in each neighborhood.\n\nLastly, I added the zip code to this grouped dataframe, sorted descending to show the 3 neighborhoods with the most venues and created a map to show where they are in Philadelphia.", 
            "cell_type": "markdown", 
            "metadata": {}
        }, 
        {
            "source": "### Result", 
            "cell_type": "markdown", 
            "metadata": {}
        }, 
        {
            "source": "The result of the data that I collected, analyzed, and displayed is that there are a total of 9 neighborhoods with a possible concert venue in Philadelphia. There are 3 neighborhoods that have a max of 2 venues and the other 6 neighborhoods contain only 1 venue. The 3 neighborhoods that contain 2 venues are:\n\n    Center City East - 19107\n    Richmond - 19134\n    South Philly: S. of Tasker, E. of Broad - 19148", 
            "cell_type": "markdown", 
            "metadata": {}
        }, 
        {
            "source": "### Conclusion", 
            "cell_type": "markdown", 
            "metadata": {}
        }, 
        {
            "source": "To conclude, the three neighborhoods that have the potential to host the most concerts are Center City East (19107), Richmond (19134), and South Philly: S. of Tasker, E. of Broad (19148). They are spread out through the city from south to north, but there are still 6 other neighborhoods that have venues for concerts as well.", 
            "cell_type": "markdown", 
            "metadata": {}
        }
    ], 
    "metadata": {
        "kernelspec": {
            "display_name": "Python 3.5", 
            "name": "python3", 
            "language": "python"
        }, 
        "language_info": {
            "mimetype": "text/x-python", 
            "nbconvert_exporter": "python", 
            "version": "3.5.5", 
            "name": "python", 
            "file_extension": ".py", 
            "pygments_lexer": "ipython3", 
            "codemirror_mode": {
                "version": 3, 
                "name": "ipython"
            }
        }
    }, 
    "nbformat": 4
}